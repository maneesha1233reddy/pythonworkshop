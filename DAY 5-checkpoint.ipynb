{
 "cells": [
  {
   "cell_type": "markdown",
   "metadata": {},
   "source": [
    "# Regular Expression:\n",
    "# OOps\n",
    "# Numpy\n",
    "# Matplotlib\n",
    "# Pandas\n"
   ]
  },
  {
   "cell_type": "markdown",
   "metadata": {},
   "source": [
    "#Regular Expression:\n",
    "- to check the data is valid or not\n",
    "- data filters"
   ]
  },
  {
   "cell_type": "code",
   "execution_count": null,
   "metadata": {},
   "outputs": [],
   "source": [
    "l = ['abc','aca','adc']\n",
    "for i in l:\n",
    "    if i.endswith('a'):\n",
    "        print(i)"
   ]
  },
  {
   "cell_type": "code",
   "execution_count": null,
   "metadata": {},
   "outputs": [],
   "source": [
    "l = ['abc','aca','aaa','abba']\n",
    "for i in l:\n",
    "    if i.endswith('a')and i.startswith('a'):\n",
    "        print(i)"
   ]
  },
  {
   "cell_type": "code",
   "execution_count": null,
   "metadata": {},
   "outputs": [],
   "source": [
    "import re"
   ]
  },
  {
   "cell_type": "code",
   "execution_count": null,
   "metadata": {},
   "outputs": [],
   "source": [
    "dir(re)"
   ]
  },
  {
   "cell_type": "code",
   "execution_count": null,
   "metadata": {},
   "outputs": [],
   "source": [
    "# syntax:\n",
    "# re.methodname(pattern,data)\n",
    "# pattren is format of required data\n",
    "# dara is given values"
   ]
  },
  {
   "cell_type": "code",
   "execution_count": null,
   "metadata": {},
   "outputs": [],
   "source": [
    "s = 'abcd'\n",
    "'a' in s"
   ]
  },
  {
   "cell_type": "code",
   "execution_count": null,
   "metadata": {},
   "outputs": [],
   "source": [
    "re.search('a',s)"
   ]
  },
  {
   "cell_type": "code",
   "execution_count": null,
   "metadata": {},
   "outputs": [],
   "source": [
    "re.findall('aa',s)"
   ]
  },
  {
   "cell_type": "markdown",
   "metadata": {},
   "source": [
    "#.(dot)\n",
    "- it matchs any single character"
   ]
  },
  {
   "cell_type": "code",
   "execution_count": null,
   "metadata": {},
   "outputs": [],
   "source": [
    "for i in l:\n",
    "    if re.search('.',i):\n",
    "        print(i)"
   ]
  },
  {
   "cell_type": "code",
   "execution_count": null,
   "metadata": {},
   "outputs": [],
   "source": [
    "['abc','aca','aaa','abba','']"
   ]
  },
  {
   "cell_type": "code",
   "execution_count": null,
   "metadata": {},
   "outputs": [],
   "source": [
    "l = ['abc','aca','aaa','abba','']"
   ]
  },
  {
   "cell_type": "code",
   "execution_count": null,
   "metadata": {},
   "outputs": [],
   "source": [
    "for i in l:\n",
    "    if len(i) == 3:\n",
    "        print(i)"
   ]
  },
  {
   "cell_type": "code",
   "execution_count": null,
   "metadata": {},
   "outputs": [],
   "source": [
    "for i in l:\n",
    "    if len(i) == 3 or len(i) == 2:\n",
    "        print(i)"
   ]
  },
  {
   "cell_type": "markdown",
   "metadata": {},
   "source": [
    "for i in 1:\n",
    "    if re. search('...',i):\n",
    "        print(i)"
   ]
  },
  {
   "cell_type": "code",
   "execution_count": null,
   "metadata": {},
   "outputs": [],
   "source": [
    "for i in l:\n",
    "    if re.search('...',i):\n",
    "        print(i)"
   ]
  },
  {
   "cell_type": "markdown",
   "metadata": {},
   "source": [
    "### *(star\n",
    "* min value 0 maxvalue\n",
    "### + (plus)\n",
    "* min value is 1 max any \n",
    "### ^(cap)\n",
    "* starts with\n",
    "### $ (doller)\n",
    "* ends with\n",
    "### \\d\n",
    "* digits\n",
    "###[]:\n",
    "* specific values\n",
    "###{min,max}:\n",
    "* min to max valve"
   ]
  },
  {
   "cell_type": "code",
   "execution_count": null,
   "metadata": {},
   "outputs": [],
   "source": [
    "s = 'abc 123 hello 456'\n",
    "s.split()\n",
    "print(l)"
   ]
  },
  {
   "cell_type": "code",
   "execution_count": null,
   "metadata": {},
   "outputs": [],
   "source": [
    "s = 'abc 123 hello 456'\n",
    "pattern = '\\d+'\n",
    "re.findall(pattern,s)\n",
    "\n"
   ]
  },
  {
   "cell_type": "code",
   "execution_count": null,
   "metadata": {},
   "outputs": [],
   "source": [
    "s = 'abc 123 hello 456'\n",
    "\n",
    "pattern = '\\d+'\n",
    "\n",
    "li = re.findall(pattern,s)\n",
    "\n",
    "sum(list(map(int,li)))"
   ]
  },
  {
   "cell_type": "code",
   "execution_count": null,
   "metadata": {},
   "outputs": [],
   "source": [
    "names=['mani','chandhu','nihasvi','nirvan','chinnu']\n",
    "pattern = '^n.+'\n",
    "for name in names:\n",
    "    if re.match(pattern,name):\n",
    "        print(name)\n",
    "    "
   ]
  },
  {
   "cell_type": "code",
   "execution_count": null,
   "metadata": {},
   "outputs": [],
   "source": [
    "# How to valid A phone number\n",
    "#1.10 digits\n",
    "#2.starts with 6-9\n",
    "numbers = ['9912649324','9949577849','7032539498','9866719723','8688991324']"
   ]
  },
  {
   "cell_type": "code",
   "execution_count": null,
   "metadata": {},
   "outputs": [],
   "source": [
    "pattern = '^[6-9]\\d{9}$'\n",
    "for number in numbers:\n",
    "    if re.match(pattern,number):\n",
    "        print(number)\n"
   ]
  },
  {
   "cell_type": "code",
   "execution_count": 5,
   "metadata": {},
   "outputs": [
    {
     "name": "stdout",
     "output_type": "stream",
     "text": [
      "enter mail idpriyamani123@gmail.com\n"
     ]
    }
   ],
   "source": [
    "#frist starts with any alphabets\n",
    "# any digits \n",
    "# @tgmail.com\n",
    "emails = input('enter mail id')\n",
    "pattern = '^[A-Za-z]{1,15}[0-9]{0,10}[@](gmail.com)$'\n",
    "for i in emails:\n",
    "    if re.match(pattern,email):\n",
    "        print(email)"
   ]
  },
  {
   "cell_type": "markdown",
   "metadata": {},
   "source": [
    "### OOP's\n",
    "* class:blue print or model of a object\n",
    "* object:physical entity which is having behaviour and action\n",
    "* constructer:special method which is used to create instance variables"
   ]
  },
  {
   "cell_type": "code",
   "execution_count": 7,
   "metadata": {},
   "outputs": [],
   "source": [
    "# Create a class\n",
    "#class Classname:\n",
    "    #variables\n",
    "    #methods"
   ]
  },
  {
   "cell_type": "code",
   "execution_count": 11,
   "metadata": {},
   "outputs": [
    {
     "name": "stdout",
     "output_type": "stream",
     "text": [
      "10\n"
     ]
    }
   ],
   "source": [
    "class student:\n",
    "    x = 10\n",
    "print(student.x)\n",
    "\n",
    "\n"
   ]
  },
  {
   "cell_type": "code",
   "execution_count": 13,
   "metadata": {},
   "outputs": [],
   "source": [
    "# Create an object\n",
    "# rv = Classname()\n",
    " s = student()"
   ]
  },
  {
   "cell_type": "code",
   "execution_count": 14,
   "metadata": {},
   "outputs": [
    {
     "data": {
      "text/plain": [
       "10"
      ]
     },
     "execution_count": 14,
     "metadata": {},
     "output_type": "execute_result"
    }
   ],
   "source": [
    "s.x"
   ]
  },
  {
   "cell_type": "code",
   "execution_count": 15,
   "metadata": {},
   "outputs": [],
   "source": [
    "class student:\n",
    "    x = 10\n",
    "    def display(self,name):\n",
    "        print('hello{}'.format(name))"
   ]
  },
  {
   "cell_type": "code",
   "execution_count": 18,
   "metadata": {},
   "outputs": [
    {
     "name": "stdout",
     "output_type": "stream",
     "text": [
      "10\n",
      "hellohoney\n"
     ]
    }
   ],
   "source": [
    "class student:\n",
    "    x = 10\n",
    "    def display(self,name):\n",
    "        print('hello{}'.format(name))\n",
    "s = student()\n",
    "print(s.x)\n",
    "s.display('honey')"
   ]
  },
  {
   "cell_type": "code",
   "execution_count": 21,
   "metadata": {},
   "outputs": [],
   "source": [
    "class student:\n",
    "    x = 10 # class var or static\n",
    "    def __init__(self):\n",
    "        y= 20 # instance var\n",
    "        print('This is constructor..')\n",
    "    def m1(self):\n",
    "        z = 30\n",
    "        print('This is method... ')"
   ]
  },
  {
   "cell_type": "code",
   "execution_count": 22,
   "metadata": {},
   "outputs": [
    {
     "name": "stdout",
     "output_type": "stream",
     "text": [
      "This is constructor..\n"
     ]
    }
   ],
   "source": [
    "s = student()"
   ]
  },
  {
   "cell_type": "code",
   "execution_count": null,
   "metadata": {},
   "outputs": [],
   "source": []
  }
 ],
 "metadata": {
  "kernelspec": {
   "display_name": "Python 3",
   "language": "python",
   "name": "python3"
  },
  "language_info": {
   "codemirror_mode": {
    "name": "ipython",
    "version": 3
   },
   "file_extension": ".py",
   "mimetype": "text/x-python",
   "name": "python",
   "nbconvert_exporter": "python",
   "pygments_lexer": "ipython3",
   "version": "3.6.5"
  }
 },
 "nbformat": 4,
 "nbformat_minor": 4
}
